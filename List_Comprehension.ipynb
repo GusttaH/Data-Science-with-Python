{
  "nbformat": 4,
  "nbformat_minor": 0,
  "metadata": {
    "colab": {
      "name": "List_Comprehension.ipynb",
      "provenance": [],
      "collapsed_sections": [],
      "authorship_tag": "ABX9TyOTVdvBAgbzgZXd9pMyhLx0",
      "include_colab_link": true
    },
    "kernelspec": {
      "name": "python3",
      "display_name": "Python 3"
    }
  },
  "cells": [
    {
      "cell_type": "markdown",
      "metadata": {
        "id": "view-in-github",
        "colab_type": "text"
      },
      "source": [
        "<a href=\"https://colab.research.google.com/github/GusttaH/Data-Science-with-Python/blob/master/List_Comprehension.ipynb\" target=\"_parent\"><img src=\"https://colab.research.google.com/assets/colab-badge.svg\" alt=\"Open In Colab\"/></a>"
      ]
    },
    {
      "cell_type": "markdown",
      "metadata": {
        "id": "Sc1P4Gcxby8E",
        "colab_type": "text"
      },
      "source": [
        "You are given three integers **X,Y,Z** and  representing the dimensions of a cuboid along with an integer **N**. You have to print a list of all possible coordinates given by **(I,J,K)** on a 3D grid where the sum of **I + J + K** is not equal to **N**."
      ]
    },
    {
      "cell_type": "code",
      "metadata": {
        "id": "BNJRUgaEcZaX",
        "colab_type": "code",
        "colab": {}
      },
      "source": [
        "x, y, z, n = (int(input()) for _ in range(4))\n",
        "print ([[a,b,c] for a in range(0,x+1) for b in range(0,y+1) for c in range(0,z+1) if a + b + c != n ])\n"
      ],
      "execution_count": 0,
      "outputs": []
    }
  ]
}