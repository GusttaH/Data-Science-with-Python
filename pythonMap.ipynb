{
  "nbformat": 4,
  "nbformat_minor": 0,
  "metadata": {
    "colab": {
      "name": "pythonMap.ipynb",
      "provenance": [],
      "authorship_tag": "ABX9TyMUl3fhp4x/CdKJ5yahxK0q"
    },
    "kernelspec": {
      "name": "python3",
      "display_name": "Python 3"
    }
  },
  "cells": [
    {
      "cell_type": "code",
      "metadata": {
        "id": "A7Me3vHMMOPi",
        "colab_type": "code",
        "colab": {}
      },
      "source": [
        "moneyArray = ['R$ 1920,90', 'r$ 900,00', 'R$ 10000,00', 'R$ 11840,60']"
      ],
      "execution_count": 0,
      "outputs": []
    },
    {
      "cell_type": "code",
      "metadata": {
        "id": "2oMnQGQQNNsc",
        "colab_type": "code",
        "colab": {}
      },
      "source": [
        "import re\n",
        "def convert_value(value):\n",
        "    value = re.sub(r'([^0-9\\,])','', value.strip())\n",
        "    value = re.sub(r',','.', value.strip())\n",
        "    return value \n",
        "    "
      ],
      "execution_count": 0,
      "outputs": []
    },
    {
      "cell_type": "code",
      "metadata": {
        "id": "N4O5Ju9tN2uJ",
        "colab_type": "code",
        "colab": {
          "base_uri": "https://localhost:8080/",
          "height": 35
        },
        "outputId": "6adeebdd-83e9-476f-c879-132f5e9058d5"
      },
      "source": [
        "list(map(convert_value, moneyArray))"
      ],
      "execution_count": 28,
      "outputs": [
        {
          "output_type": "execute_result",
          "data": {
            "text/plain": [
              "['1920.90', '900.00', '10000.00', '11840.60']"
            ]
          },
          "metadata": {
            "tags": []
          },
          "execution_count": 28
        }
      ]
    }
  ]
}